{
 "cells": [
  {
   "cell_type": "markdown",
   "metadata": {},
   "source": [
    "## 初期設定"
   ]
  },
  {
   "cell_type": "code",
   "execution_count": 2,
   "metadata": {},
   "outputs": [],
   "source": [
    "import os\n",
    "from dotenv import load_dotenv\n",
    "\n",
    "# .envファイルの読み込み\n",
    "load_dotenv()\n",
    "\n",
    "# APIトークンの設定（環境変数または直接指定）\n",
    "API_TOKEN = os.getenv(\"GBIZINFO_API_TOKEN\", \"DTcLxzo1lZaUYaQPVdSRxdS4MzlXNCs4\")  # 動作確認用トークン\n",
    "\n",
    "# 基本URL\n",
    "BASE_URL = \"https://info.gbiz.go.jp/hojin\"\n",
    "\n",
    "# リクエストヘッダー\n",
    "HEADERS = {\n",
    "    'X-hojinInfo-api-token': API_TOKEN\n",
    "}"
   ]
  },
  {
   "cell_type": "markdown",
   "metadata": {},
   "source": [
    "## 初期実行"
   ]
  },
  {
   "cell_type": "code",
   "execution_count": 7,
   "metadata": {},
   "outputs": [
    {
     "name": "stdout",
     "output_type": "stream",
     "text": [
      "gBizINFO APIから「カネヨ山野辺水産」の情報を検索しています...\n",
      "検索結果: 1件\n",
      "\n",
      "企業データ:\n",
      "[{'corporate_number': '6370601000166',\n",
      "  'location': '宮城県塩竈市杉の入４丁目１番８８号',\n",
      "  'name': 'カネヨ山野辺水産株式会社',\n",
      "  'number_of_activity': '0',\n",
      "  'postal_code': '9850005',\n",
      "  'status': '-',\n",
      "  'update_date': '2022-11-17T00:00:00+09:00'}]\n"
     ]
    }
   ],
   "source": [
    "from pprint import pprint\n",
    "import requests\n",
    "\n",
    "\n",
    "def search_company(company_name):\n",
    "    \"\"\"\n",
    "    gBizINFO APIから企業情報を検索する関数\n",
    "    \"\"\"\n",
    "    endpoint = f\"{BASE_URL}/v1/hojin\"\n",
    "    params = {\n",
    "        'name': company_name,\n",
    "        'limit': '10'\n",
    "    }\n",
    "    \n",
    "    try:\n",
    "        response = requests.get(endpoint, headers=HEADERS, params=params)\n",
    "        if response.status_code == 200:\n",
    "            return response.json()\n",
    "        else:\n",
    "            print(f\"エラー: HTTPステータスコード {response.status_code}\")\n",
    "            print(f\"レスポンス: {response.text}\")\n",
    "            return None\n",
    "    except Exception as e:\n",
    "        print(f\"例外が発生しました: {e}\")\n",
    "        return None\n",
    "\n",
    "# メイン処理\n",
    "def main(company_name):\n",
    "    print(f\"gBizINFO APIから「{company_name}」の情報を検索しています...\")\n",
    "    \n",
    "    data = search_company(company_name)\n",
    "    \n",
    "    if data and \"hojin-infos\" in data and len(data[\"hojin-infos\"]) > 0:\n",
    "        print(f\"検索結果: {len(data['hojin-infos'])}件\")\n",
    "        print(\"\\n企業データ:\")\n",
    "        pprint(data[\"hojin-infos\"])\n",
    "            \n",
    "if __name__ == \"__main__\":\n",
    "    main(company_name=\"カネヨ山野辺水産\")"
   ]
  },
  {
   "cell_type": "code",
   "execution_count": 3,
   "metadata": {},
   "outputs": [
    {
     "name": "stdout",
     "output_type": "stream",
     "text": [
      "企業の調達情報を取得しています...\n",
      "\n",
      "調達情報はありません\n",
      "\n",
      "企業の補助金情報を取得しています...\n",
      "\n",
      "補助金情報はありません\n"
     ]
    }
   ],
   "source": [
    "from pprint import pprint\n",
    "import requests\n",
    "\n",
    "\n",
    "def get_company_procurement(corporate_number):\n",
    "    \"\"\"\n",
    "    gBizINFO APIから企業の調達情報を取得する関数\n",
    "    \"\"\"\n",
    "    endpoint = f\"{BASE_URL}/v1/hojin/{corporate_number}/procurement\"\n",
    "    \n",
    "    try:\n",
    "        response = requests.get(endpoint, headers=HEADERS)\n",
    "        if response.status_code == 200:\n",
    "            return response.json()\n",
    "        else:\n",
    "            print(f\"調達情報取得エラー: HTTPステータスコード {response.status_code}\")\n",
    "            print(f\"レスポンス: {response.text}\")\n",
    "            return None\n",
    "    except Exception as e:\n",
    "        print(f\"例外が発生しました: {e}\")\n",
    "        return None\n",
    "\n",
    "def get_company_subsidy(corporate_number):\n",
    "    \"\"\"\n",
    "    gBizINFO APIから企業の補助金情報を取得する関数\n",
    "    \"\"\"\n",
    "    endpoint = f\"{BASE_URL}/v1/hojin/{corporate_number}/subsidy\"\n",
    "    \n",
    "    try:\n",
    "        response = requests.get(endpoint, headers=HEADERS)\n",
    "        if response.status_code == 200:\n",
    "            return response.json()\n",
    "        else:\n",
    "            print(f\"補助金情報取得エラー: HTTPステータスコード {response.status_code}\")\n",
    "            print(f\"レスポンス: {response.text}\")\n",
    "            return None\n",
    "    except Exception as e:\n",
    "        print(f\"例外が発生しました: {e}\")\n",
    "        return None\n",
    "\n",
    "# メイン処理\n",
    "if __name__ == \"__main__\":\n",
    "    corporate_number = \"6370601000166\"  # 上で取得した法人番号\n",
    "    \n",
    "    # 調達情報の取得\n",
    "    print(f\"企業の調達情報を取得しています...\")\n",
    "    procurement_data = get_company_procurement(corporate_number)\n",
    "    \n",
    "    if procurement_data and \"hojin-infos\" in procurement_data and len(procurement_data[\"hojin-infos\"]) > 0:\n",
    "        company_info = procurement_data[\"hojin-infos\"][0]\n",
    "        if \"procurement\" in company_info and len(company_info[\"procurement\"]) > 0:\n",
    "            print(f\"\\n調達情報: {len(company_info['procurement'])}件\")\n",
    "            print(\"\\n調達データ:\")\n",
    "            pprint(company_info[\"procurement\"])\n",
    "        else:\n",
    "            print(\"\\n調達情報はありません\")\n",
    "    else:\n",
    "        print(\"\\n調達情報が取得できませんでした\")\n",
    "    \n",
    "    # 補助金情報の取得\n",
    "    print(f\"\\n企業の補助金情報を取得しています...\")\n",
    "    subsidy_data = get_company_subsidy(corporate_number)\n",
    "    \n",
    "    if subsidy_data and \"hojin-infos\" in subsidy_data and len(subsidy_data[\"hojin-infos\"]) > 0:\n",
    "        company_info = subsidy_data[\"hojin-infos\"][0]\n",
    "        if \"subsidy\" in company_info and len(company_info[\"subsidy\"]) > 0:\n",
    "            print(f\"\\n補助金情報: {len(company_info['subsidy'])}件\")\n",
    "            print(\"\\n補助金データ:\")\n",
    "            pprint(company_info[\"subsidy\"])\n",
    "        else:\n",
    "            print(\"\\n補助金情報はありません\")\n",
    "    else:\n",
    "        print(\"\\n補助金情報が取得できませんでした\")"
   ]
  }
 ],
 "metadata": {
  "kernelspec": {
   "display_name": "base",
   "language": "python",
   "name": "python3"
  },
  "language_info": {
   "codemirror_mode": {
    "name": "ipython",
    "version": 3
   },
   "file_extension": ".py",
   "mimetype": "text/x-python",
   "name": "python",
   "nbconvert_exporter": "python",
   "pygments_lexer": "ipython3",
   "version": "3.12.9"
  }
 },
 "nbformat": 4,
 "nbformat_minor": 2
}
